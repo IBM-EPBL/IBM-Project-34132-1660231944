{
  "cells": [
    {
      "cell_type": "markdown",
      "metadata": {
        "id": "caeb5126"
      },
      "source": [
        "# Model Training for Real Time Communication through AI for Specially Abled\n",
        "### Loading the Dataset & Image Data Generation"
      ],
      "id": "caeb5126"
    },
    {
      "cell_type": "code",
      "execution_count": null,
      "metadata": {
        "id": "mKjbkGFN5eXo",
        "colab": {
          "base_uri": "https://localhost:8080/"
        },
        "outputId": "76e24bc9-507e-4c0a-d41b-c6386ce68c2a"
      },
      "outputs": [
        {
          "output_type": "stream",
          "name": "stdout",
          "text": [
            "Mounted at /content/drive\n"
          ]
        }
      ],
      "source": [
        "from google.colab import drive\n",
        "drive.mount('/content/drive')"
      ],
      "id": "mKjbkGFN5eXo"
    },
    {
      "cell_type": "code",
      "execution_count": null,
      "metadata": {
        "id": "d28c672e-2adf-48d4-a932-9eead3615484"
      },
      "outputs": [],
      "source": [
        "from tensorflow.keras.preprocessing.image import ImageDataGenerator"
      ],
      "id": "d28c672e-2adf-48d4-a932-9eead3615484"
    },
    {
      "cell_type": "code",
      "execution_count": null,
      "metadata": {
        "id": "59fd6cd1-d07f-4142-9fb5-ad8b39e4d6f8"
      },
      "outputs": [],
      "source": [
        "# Training Datagen\n",
        "train_datagen = ImageDataGenerator(rescale=1/255,zoom_range=0.2,horizontal_flip=True,vertical_flip=False)\n",
        "# Testing Datagen\n",
        "test_datagen = ImageDataGenerator(rescale=1/255)"
      ],
      "id": "59fd6cd1-d07f-4142-9fb5-ad8b39e4d6f8"
    },
    {
      "cell_type": "code",
      "execution_count": null,
      "metadata": {
        "id": "abb15498-7081-4159-8bc2-9446325480b8",
        "colab": {
          "base_uri": "https://localhost:8080/"
        },
        "outputId": "1ad2649f-9483-4b53-b24f-4e317f6a6614"
      },
      "outputs": [
        {
          "output_type": "stream",
          "name": "stdout",
          "text": [
            "Found 15760 images belonging to 9 classes.\n",
            "Found 2250 images belonging to 9 classes.\n"
          ]
        }
      ],
      "source": [
        "# Training Dataset\n",
        "x_train=train_datagen.flow_from_directory('/content/drive/MyDrive/Dataset/training_set',target_size=(64,64), class_mode='categorical',batch_size=900)\n",
        "# Testing Dataset\n",
        "x_test=test_datagen.flow_from_directory('/content/drive/MyDrive/Dataset/test_set',target_size=(64,64), class_mode='categorical',batch_size=900)"
      ],
      "id": "abb15498-7081-4159-8bc2-9446325480b8"
    },
    {
      "cell_type": "code",
      "execution_count": null,
      "metadata": {
        "id": "95d51502-6c7f-481f-93d1-fbbf8d4b8312",
        "colab": {
          "base_uri": "https://localhost:8080/"
        },
        "outputId": "babcb1f7-fdb7-4ee0-9b30-1f707e595649"
      },
      "outputs": [
        {
          "output_type": "stream",
          "name": "stdout",
          "text": [
            "Len x-train :  18\n",
            "Len x-test :  3\n"
          ]
        }
      ],
      "source": [
        "print(\"Len x-train : \", len(x_train))\n",
        "print(\"Len x-test : \", len(x_test))"
      ],
      "id": "95d51502-6c7f-481f-93d1-fbbf8d4b8312"
    },
    {
      "cell_type": "code",
      "execution_count": null,
      "metadata": {
        "id": "0c7bd1a5-f00c-4e38-8b2b-7d72b87c8342",
        "colab": {
          "base_uri": "https://localhost:8080/"
        },
        "outputId": "06b661ef-ca43-420c-aa3e-8a35ba7d7ad3"
      },
      "outputs": [
        {
          "output_type": "execute_result",
          "data": {
            "text/plain": [
              "{'A': 0, 'B': 1, 'C': 2, 'D': 3, 'E': 4, 'F': 5, 'G': 6, 'H': 7, 'I': 8}"
            ]
          },
          "metadata": {},
          "execution_count": 6
        }
      ],
      "source": [
        "# The Class Indices in Training Dataset\n",
        "x_train.class_indices"
      ],
      "id": "0c7bd1a5-f00c-4e38-8b2b-7d72b87c8342"
    },
    {
      "cell_type": "markdown",
      "metadata": {
        "id": "587735d2-c2e1-41d9-9977-c2cc95d292d1"
      },
      "source": [
        "### Model Creation"
      ],
      "id": "587735d2-c2e1-41d9-9977-c2cc95d292d1"
    },
    {
      "cell_type": "code",
      "execution_count": null,
      "metadata": {
        "id": "ce455129-151f-4d93-b620-f9db2406426a"
      },
      "outputs": [],
      "source": [
        "# Importing Libraries\n",
        "from tensorflow.keras.models import Sequential\n",
        "from tensorflow.keras.layers import Convolution2D,MaxPooling2D,Flatten,Dense"
      ],
      "id": "ce455129-151f-4d93-b620-f9db2406426a"
    },
    {
      "cell_type": "code",
      "execution_count": null,
      "metadata": {
        "id": "c153d655-bf2a-4736-86b6-ec89a4e165c9"
      },
      "outputs": [],
      "source": [
        "# Creating Model\n",
        "model=Sequential()"
      ],
      "id": "c153d655-bf2a-4736-86b6-ec89a4e165c9"
    },
    {
      "cell_type": "code",
      "execution_count": null,
      "metadata": {
        "id": "9e37f026-48f0-4ce0-93c5-03c15d18c86a"
      },
      "outputs": [],
      "source": [
        "# Adding Layers\n",
        "model.add(Convolution2D(32,(3,3),activation='relu',input_shape=(64,64,3)))\n",
        "model.add(MaxPooling2D(pool_size=(2,2)))\n",
        "model.add(Flatten())\n",
        "\n",
        "# Adding Hidden Layers\n",
        "model.add(Dense(300,activation='relu'))\n",
        "model.add(Dense(150,activation='relu'))\n",
        "\n",
        "# Adding Output Layer\n",
        "model.add(Dense(9,activation='softmax'))"
      ],
      "id": "9e37f026-48f0-4ce0-93c5-03c15d18c86a"
    },
    {
      "cell_type": "code",
      "execution_count": null,
      "metadata": {
        "id": "29f8b091-69b3-4fea-b6d4-6ea92c4fb717"
      },
      "outputs": [],
      "source": [
        "# Compiling the Model\n",
        "model.compile(loss='categorical_crossentropy',optimizer='adam',metrics=['accuracy'])"
      ],
      "id": "29f8b091-69b3-4fea-b6d4-6ea92c4fb717"
    },
    {
      "cell_type": "code",
      "execution_count": 1,
      "metadata": {
        "colab": {
          "base_uri": "https://localhost:8080/",
          "height": 182
        },
        "id": "b534c848-a41a-4332-af56-332b8ae63065",
        "outputId": "a842fdff-97ce-4c85-aa55-fd3ced19d599"
      },
      "outputs": [
        {
          "output_type": "error",
          "ename": "NameError",
          "evalue": "ignored",
          "traceback": [
            "\u001b[0;31m---------------------------------------------------------------------------\u001b[0m",
            "\u001b[0;31mNameError\u001b[0m                                 Traceback (most recent call last)",
            "\u001b[0;32m<ipython-input-1-e69042da540a>\u001b[0m in \u001b[0;36m<module>\u001b[0;34m\u001b[0m\n\u001b[1;32m      1\u001b[0m \u001b[0;31m# Fitting the Model Generator\u001b[0m\u001b[0;34m\u001b[0m\u001b[0;34m\u001b[0m\u001b[0;34m\u001b[0m\u001b[0m\n\u001b[0;32m----> 2\u001b[0;31m \u001b[0mmodel\u001b[0m\u001b[0;34m.\u001b[0m\u001b[0mfit_generator\u001b[0m\u001b[0;34m(\u001b[0m\u001b[0mx_train\u001b[0m\u001b[0;34m,\u001b[0m\u001b[0msteps_per_epoch\u001b[0m\u001b[0;34m=\u001b[0m\u001b[0mlen\u001b[0m\u001b[0;34m(\u001b[0m\u001b[0mx_train\u001b[0m\u001b[0;34m)\u001b[0m\u001b[0;34m,\u001b[0m\u001b[0mepochs\u001b[0m\u001b[0;34m=\u001b[0m\u001b[0;36m10\u001b[0m\u001b[0;34m,\u001b[0m\u001b[0mvalidation_data\u001b[0m\u001b[0;34m=\u001b[0m\u001b[0mx_test\u001b[0m\u001b[0;34m,\u001b[0m\u001b[0mvalidation_steps\u001b[0m\u001b[0;34m=\u001b[0m\u001b[0mlen\u001b[0m\u001b[0;34m(\u001b[0m\u001b[0mx_test\u001b[0m\u001b[0;34m)\u001b[0m\u001b[0;34m)\u001b[0m\u001b[0;34m\u001b[0m\u001b[0;34m\u001b[0m\u001b[0m\n\u001b[0m",
            "\u001b[0;31mNameError\u001b[0m: name 'model' is not defined"
          ]
        }
      ],
      "source": [
        "# Fitting the Model Generator\n",
        "model.fit_generator(x_train,steps_per_epoch=len(x_train),epochs=10,validation_data=x_test,validation_steps=len(x_test))"
      ],
      "id": "b534c848-a41a-4332-af56-332b8ae63065"
    },
    {
      "cell_type": "markdown",
      "metadata": {
        "id": "05ad001b-c47a-4d0b-9cdb-d085afd83383"
      },
      "source": [
        "### Saving the Model"
      ],
      "id": "05ad001b-c47a-4d0b-9cdb-d085afd83383"
    },
    {
      "cell_type": "code",
      "execution_count": null,
      "metadata": {
        "id": "952eca53-e5aa-4ad5-a868-5fd34080eafa"
      },
      "outputs": [],
      "source": [
        "model.save('asl_model_84_54.h5')\n",
        "# Current accuracy is 0.8454"
      ],
      "id": "952eca53-e5aa-4ad5-a868-5fd34080eafa"
    },
    {
      "cell_type": "code",
      "execution_count": null,
      "metadata": {
        "id": "1oL84mGS52tz"
      },
      "outputs": [],
      "source": [],
      "id": "1oL84mGS52tz"
    },
    {
      "cell_type": "code",
      "execution_count": null,
      "metadata": {
        "colab": {
          "background_save": true
        },
        "id": "99428b29"
      },
      "outputs": [],
      "source": [],
      "id": "99428b29"
    }
  ],
  "metadata": {
    "colab": {
      "provenance": []
    },
    "interpreter": {
      "hash": "4f0f97fd6c5ecc85c2cf8f5e01f5fe1d66323d0c47c6f4b81bd3f87b7ad3ebb6"
    },
    "kernelspec": {
      "display_name": "Python 3.10.4 ('venv': venv)",
      "language": "python",
      "name": "python3"
    },
    "language_info": {
      "codemirror_mode": {
        "name": "ipython",
        "version": 3
      },
      "file_extension": ".py",
      "mimetype": "text/x-python",
      "name": "python",
      "nbconvert_exporter": "python",
      "pygments_lexer": "ipython3",
      "version": "3.10.4"
    }
  },
  "nbformat": 4,
  "nbformat_minor": 5
}